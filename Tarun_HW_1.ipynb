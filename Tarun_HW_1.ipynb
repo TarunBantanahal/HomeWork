{
 "cells": [
  {
   "cell_type": "markdown",
   "id": "87339e27",
   "metadata": {},
   "source": [
    "1. Ask user to input two strings - first string is statement in which the second string needs to be looked upon. Then using the string methods determine whether second string is present in first string or not. Inform the user about the result"
   ]
  },
  {
   "cell_type": "code",
   "execution_count": 12,
   "id": "2b5af1df",
   "metadata": {},
   "outputs": [
    {
     "name": "stdout",
     "output_type": "stream",
     "text": [
      "Enter a string/sentence = tarun\n",
      "Enter the string needed to be searched from above string = tarunbantanahal\n",
      "Is 'tarunbantanahal' present in 'tarun'?\n",
      " False\n"
     ]
    }
   ],
   "source": [
    "s1 = input(\"Enter a string/sentence = \")\n",
    "s2 = input(\"Enter the string needed to be searched from above string = \")\n",
    "print(f\"Is '{s2}' present in '{s1}'?\\n\",s2 in s1)"
   ]
  },
  {
   "cell_type": "markdown",
   "id": "9751dc04",
   "metadata": {},
   "source": [
    "2. Ask the user to input a string , then output the same string in lowercase, uppercase and reverse manner."
   ]
  },
  {
   "cell_type": "code",
   "execution_count": 20,
   "id": "0608a386",
   "metadata": {},
   "outputs": [
    {
     "name": "stdout",
     "output_type": "stream",
     "text": [
      "Enter another string = Tarun\n",
      "Tarun in lower case = tarun.  In upper case = TARUN. In reverse = nuraT.\n"
     ]
    }
   ],
   "source": [
    "s3 = input(\"Enter another string = \")\n",
    "print(f\"{s3} in lower case =\",s3.lower()+'.',f\" In upper case =\",s3.upper()+'.',f\"In reverse =\",s3[::-1]+'.')"
   ]
  },
  {
   "cell_type": "code",
   "execution_count": null,
   "id": "6092ac1f",
   "metadata": {},
   "outputs": [],
   "source": []
  }
 ],
 "metadata": {
  "kernelspec": {
   "display_name": "Python 3 (ipykernel)",
   "language": "python",
   "name": "python3"
  },
  "language_info": {
   "codemirror_mode": {
    "name": "ipython",
    "version": 3
   },
   "file_extension": ".py",
   "mimetype": "text/x-python",
   "name": "python",
   "nbconvert_exporter": "python",
   "pygments_lexer": "ipython3",
   "version": "3.10.0"
  }
 },
 "nbformat": 4,
 "nbformat_minor": 5
}
